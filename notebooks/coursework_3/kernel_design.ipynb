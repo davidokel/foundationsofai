{
 "cells": [
  {
   "cell_type": "markdown",
   "source": [
    "## Imports and Data\n",
    "\n",
    "We will be working with the 20 newsgroups dataset.\n",
    "\n",
    "I have included the minimal sufficient imports to complete the coursework. You are welcome to import other modules.\n",
    "\n",
    "**some functions will produce sparse matrices for which operations may not work as you expect. Make sure to check the dimensionality of your outputs. You should be able to convert to normal arrays with .toarray() if you have any problems**\n",
    "\n",
    "**This coursework follows the Kernels for text section in the slides**"
   ],
   "metadata": {
    "collapsed": false
   }
  },
  {
   "cell_type": "code",
   "execution_count": 16,
   "outputs": [],
   "source": [
    "from sklearn.datasets import fetch_20newsgroups\n",
    "import matplotlib.pyplot as plt\n",
    "import numpy as np\n",
    "from sklearn.feature_extraction.text import CountVectorizer\n",
    "from sklearn.svm import SVC\n",
    "from sklearn.decomposition import KernelPCA\n",
    "dataset = fetch_20newsgroups(shuffle=True, random_state=1, remove=('headers', 'footers', 'quotes'), subset='train', categories=['sci.electronics','rec.autos','rec.sport.hockey'])\n",
    "train_documents = dataset.data\n",
    "train_targets=dataset.target\n",
    "train_target_names=dataset.target_names\n",
    "dataset = fetch_20newsgroups(shuffle=True, random_state=1, remove=('headers', 'footers', 'quotes'), subset='test', categories=['sci.electronics','rec.autos','rec.sport.hockey'])\n",
    "test_documents = dataset.data\n",
    "test_targets=dataset.target\n",
    "test_target_names=dataset.target_names"
   ],
   "metadata": {
    "collapsed": false
   }
  },
  {
   "cell_type": "markdown",
   "source": [
    "## 1) Using CountVectorizer or otherwise, convert the list of documents to"
   ],
   "metadata": {
    "collapsed": false
   }
  },
  {
   "cell_type": "markdown",
   "source": [
    "### a) Use CountVectorizer to get the counts of each term (word) in each of the documents"
   ],
   "metadata": {
    "collapsed": false
   }
  },
  {
   "cell_type": "code",
   "execution_count": 17,
   "outputs": [],
   "source": [
    "count_vectorizer = CountVectorizer()\n",
    "\n",
    "term_count_train = count_vectorizer.fit_transform(train_documents)\n",
    "term_count_test = count_vectorizer.fit_transform(train_documents)"
   ],
   "metadata": {
    "collapsed": false
   }
  },
  {
   "cell_type": "markdown",
   "source": [
    "### b) Write a function which returns the document frequency of each of the terms across all of the training documents. Use np.asarray() and np.squeeze() to ensure this produces a 1d output"
   ],
   "metadata": {
    "collapsed": false
   }
  },
  {
   "cell_type": "code",
   "execution_count": null,
   "outputs": [],
   "source": [
    "train_doc_freq = np.squeeze(np.asarray(term_count_train.sum(axis=0)))"
   ],
   "metadata": {
    "collapsed": false,
    "pycharm": {
     "is_executing": true
    }
   }
  },
  {
   "cell_type": "markdown",
   "source": [
    "### c) Using numpy.histogram followed by plt.hist, plot a histogram of the log of the document frequencies"
   ],
   "metadata": {
    "collapsed": false
   }
  },
  {
   "cell_type": "code",
   "execution_count": 33,
   "outputs": [
    {
     "data": {
      "text/plain": "(0.0, 13211.0)"
     },
     "execution_count": 33,
     "metadata": {},
     "output_type": "execute_result"
    },
    {
     "data": {
      "text/plain": "<Figure size 640x480 with 1 Axes>",
      "image/png": "[encoded data removed]"
     },
     "metadata": {},
     "output_type": "display_data"
    }
   ],
   "source": [
    "n_bins = 50\n",
    "\n",
    "plt.figure()\n",
    "plt.hist(train_doc_freq, bins=30)\n",
    "plt.xlabel(\"Document Frequency\")\n",
    "plt.ylabel(\"Number of Terms\")\n",
    "plt.yscale(\"log\")\n",
    "plt.xlim(0, max(train_doc_freq))"
   ],
   "metadata": {
    "collapsed": false
   }
  },
  {
   "cell_type": "markdown",
   "source": [
    "### e) Write a function which returns the inverse document frequency"
   ],
   "metadata": {
    "collapsed": false
   }
  },
  {
   "cell_type": "code",
   "execution_count": 20,
   "outputs": [],
   "source": [
    "def inverse_document_frequencies(document_frequencies, corpus):\n"
   ],
   "metadata": {
    "collapsed": false
   }
  },
  {
   "cell_type": "markdown",
   "source": [
    "### f) Write a function which returns the tfidf weighted kernel for two sets of documents (i.e. train and test)"
   ],
   "metadata": {
    "collapsed": false
   }
  },
  {
   "cell_type": "code",
   "execution_count": 21,
   "outputs": [],
   "source": [
    "#YOUR CODE HERE"
   ],
   "metadata": {
    "collapsed": false
   }
  },
  {
   "cell_type": "markdown",
   "source": [
    "### g) Use an SVC classifier with the outputs of CountVectorizer (ie the term counts for each document) to classify the documents according to the train_targets and test_targets and present the performance of this classifier in a suitable way."
   ],
   "metadata": {
    "collapsed": false
   }
  },
  {
   "cell_type": "code",
   "execution_count": 22,
   "outputs": [],
   "source": [
    "#YOUR CODE HERE"
   ],
   "metadata": {
    "collapsed": false
   }
  },
  {
   "cell_type": "markdown",
   "source": [
    "### h) Construct the tfidf kernel for the train (n_train x n_train) and test (n_test x n_train) data"
   ],
   "metadata": {
    "collapsed": false
   }
  },
  {
   "cell_type": "code",
   "execution_count": 23,
   "outputs": [],
   "source": [
    "#YOUR CODE HERE"
   ],
   "metadata": {
    "collapsed": false
   }
  },
  {
   "cell_type": "markdown",
   "source": [
    "### i) use the SVC classifier again to classify the documents. Compare the performance to the previous case"
   ],
   "metadata": {
    "collapsed": false
   }
  },
  {
   "cell_type": "code",
   "execution_count": 24,
   "outputs": [],
   "source": [
    "#YOUR CODE HERE"
   ],
   "metadata": {
    "collapsed": false
   }
  },
  {
   "cell_type": "markdown",
   "source": [
    "### j) Extension: Use (Kernel/Linear) PCA with varying dimensions of your tfidf kernel and repeat the classification or explore the eigenvalues of the kernel PCA and comment."
   ],
   "metadata": {
    "collapsed": false
   }
  },
  {
   "cell_type": "code",
   "execution_count": 25,
   "outputs": [],
   "source": [
    "#YOUR CODE HERE"
   ],
   "metadata": {
    "collapsed": false
   }
  }
 ],
 "metadata": {
  "kernelspec": {
   "display_name": "Python 3",
   "language": "python",
   "name": "python3"
  },
  "language_info": {
   "codemirror_mode": {
    "name": "ipython",
    "version": 2
   },
   "file_extension": ".py",
   "mimetype": "text/x-python",
   "name": "python",
   "nbconvert_exporter": "python",
   "pygments_lexer": "ipython2",
   "version": "2.7.6"
  }
 },
 "nbformat": 4,
 "nbformat_minor": 0
}
