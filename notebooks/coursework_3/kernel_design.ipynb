{
 "cells": [
  {
   "cell_type": "markdown",
   "source": [
    "## Imports and Data\n",
    "\n",
    "We will be working with the 20 newsgroups dataset.\n",
    "\n",
    "I have included the minimal sufficient imports to complete the coursework. You are welcome to import other modules.\n",
    "\n",
    "**some functions will produce sparse matrices for which operations may not work as you expect. Make sure to check the dimensionality of your outputs. You should be able to convert to normal arrays with .toarray() if you have any problems**\n",
    "\n",
    "**This coursework follows the Kernels for text section in the slides**"
   ],
   "metadata": {
    "collapsed": false
   }
  },
  {
   "cell_type": "code",
   "execution_count": 60,
   "outputs": [],
   "source": [
    "from sklearn.datasets import fetch_20newsgroups\n",
    "import matplotlib.pyplot as plt\n",
    "import numpy as np\n",
    "from sklearn.feature_extraction.text import CountVectorizer\n",
    "from sklearn.svm import SVC\n",
    "from sklearn.decomposition import KernelPCA\n",
    "dataset = fetch_20newsgroups(shuffle=True, random_state=1, remove=('headers', 'footers', 'quotes'), subset='train', categories=['sci.electronics','rec.autos','rec.sport.hockey'])\n",
    "train_documents = dataset.data\n",
    "train_targets=dataset.target\n",
    "train_target_names=dataset.target_names\n",
    "dataset = fetch_20newsgroups(shuffle=True, random_state=1, remove=('headers', 'footers', 'quotes'), subset='test', categories=['sci.electronics','rec.autos','rec.sport.hockey'])\n",
    "test_documents = dataset.data\n",
    "test_targets=dataset.target\n",
    "test_target_names=dataset.target_names"
   ],
   "metadata": {
    "collapsed": false
   }
  },
  {
   "cell_type": "markdown",
   "source": [
    "## 1) Using CountVectorizer or otherwise, convert the list of documents to"
   ],
   "metadata": {
    "collapsed": false
   }
  },
  {
   "cell_type": "markdown",
   "source": [
    "### a) Use CountVectorizer to get the counts of each term (word) in each of the documents"
   ],
   "metadata": {
    "collapsed": false
   }
  },
  {
   "cell_type": "code",
   "execution_count": 61,
   "outputs": [],
   "source": [
    "def term_frequencies(documents):\n",
    "    count_vectorizer = CountVectorizer()\n",
    "    df = count_vectorizer.fit_transform(documents)\n",
    "    return df"
   ],
   "metadata": {
    "collapsed": false
   }
  },
  {
   "cell_type": "markdown",
   "source": [
    "### b) Write a function which returns the document frequency of each of the terms across all of the training documents. Use np.asarray() and np.squeeze() to ensure this produces a 1d output"
   ],
   "metadata": {
    "collapsed": false
   }
  },
  {
   "cell_type": "code",
   "execution_count": 62,
   "outputs": [],
   "source": [
    "def document_frequencies(documents):\n",
    "    term_counts = term_frequencies(documents)\n",
    "    return np.squeeze(np.asarray(term_counts.sum(axis=0))) #sum over all documents"
   ],
   "metadata": {
    "collapsed": false
   }
  },
  {
   "cell_type": "markdown",
   "source": [
    "### c) Using numpy.histogram followed by plt.hist, plot a histogram of the log of the document frequencies"
   ],
   "metadata": {
    "collapsed": false
   }
  },
  {
   "cell_type": "code",
   "execution_count": 63,
   "outputs": [
    {
     "data": {
      "text/plain": "(0.0, 13211.0)"
     },
     "execution_count": 63,
     "metadata": {},
     "output_type": "execute_result"
    },
    {
     "data": {
      "text/plain": "<Figure size 640x480 with 1 Axes>",
      "image/png": "[encoded data removed]"
     },
     "metadata": {},
     "output_type": "display_data"
    }
   ],
   "source": [
    "df_train = document_frequencies(train_documents)\n",
    "\n",
    "n_bins = 50\n",
    "\n",
    "plt.figure()\n",
    "plt.hist(df_train, bins=30)\n",
    "plt.xlabel(\"Document Frequency\")\n",
    "plt.ylabel(\"Number of Terms\")\n",
    "plt.yscale(\"log\")\n",
    "plt.xlim(0, max(df_train))"
   ],
   "metadata": {
    "collapsed": false
   }
  },
  {
   "cell_type": "markdown",
   "source": [
    "### e) Write a function which returns the inverse document frequency"
   ],
   "metadata": {
    "collapsed": false
   }
  },
  {
   "cell_type": "code",
   "execution_count": 90,
   "outputs": [],
   "source": [
    "def inverse_document_frequencies(corpus_train, corpus_test):\n",
    "    N_train = len(corpus_train)\n",
    "    N_test = len(corpus_test)\n",
    "\n",
    "    df_train = document_frequencies(corpus_train)\n",
    "    df_test = document_frequencies(corpus_test)\n",
    "\n",
    "    inverter = lambda df: np.log(df/N_train)\n",
    "    idf_train = inverter(df_train)\n",
    "\n",
    "    inverter = lambda df: np.log(df/N_test)\n",
    "    idf_test = inverter(df_test)\n",
    "\n",
    "    return idf_train, idf_test"
   ],
   "metadata": {
    "collapsed": false
   }
  },
  {
   "cell_type": "markdown",
   "source": [
    "### f) Write a function which returns the tfidf weighted kernel for two sets of documents (i.e. train and test)"
   ],
   "metadata": {
    "collapsed": false
   }
  },
  {
   "cell_type": "code",
   "execution_count": 88,
   "outputs": [],
   "source": [
    "def tfidf(corpus_train, corpus_test):\n",
    "    idf_train, idf_test = inverse_document_frequencies(corpus_train, corpus_test)\n",
    "    tf_train = term_frequencies(corpus_train)\n",
    "    tf_test = term_frequencies(corpus_test)\n",
    "\n",
    "    tfidf_train = tf_train * idf_train\n",
    "    tfidf_test = tf_test * idf_test\n",
    "\n",
    "    return tfidf_train, tfidf_test"
   ],
   "metadata": {
    "collapsed": false
   }
  },
  {
   "cell_type": "markdown",
   "source": [
    "### g) Use an SVC classifier with the outputs of CountVectorizer (ie the term counts for each document) to classify the documents according to the train_targets and test_targets and present the performance of this classifier in a suitable way."
   ],
   "metadata": {
    "collapsed": false
   }
  },
  {
   "cell_type": "code",
   "execution_count": 74,
   "outputs": [
    {
     "name": "stdout",
     "output_type": "stream",
     "text": [
      "Cannot predict test data as test and training sets have different number of words, and thus a different number of features\n",
      "(1785, 19663)\n",
      "(1188, 14717)\n"
     ]
    }
   ],
   "source": [
    "tf_train = term_frequencies(train_documents)\n",
    "tf_test = term_frequencies(test_documents)\n",
    "svc = SVC()\n",
    "svc.fit(tf_train, train_targets)\n",
    "\n",
    "# y_predict = svc.predict(tf_test)\n",
    "print(f\"Cannot predict test data as test and training sets have different number of words, and thus a different number of features\")\n",
    "print(tf_train.shape)\n",
    "print(tf_test.shape)"
   ],
   "metadata": {
    "collapsed": false
   }
  },
  {
   "cell_type": "code",
   "execution_count": 78,
   "outputs": [
    {
     "name": "stdout",
     "output_type": "stream",
     "text": [
      "The training accuracy is:  0.70\n"
     ]
    },
    {
     "data": {
      "text/plain": "Text(50.722222222222214, 0.5, 'Actual Value')"
     },
     "execution_count": 78,
     "metadata": {},
     "output_type": "execute_result"
    },
    {
     "data": {
      "text/plain": "<Figure size 640x480 with 2 Axes>",
      "image/png": "[encoded data removed]"
     },
     "metadata": {},
     "output_type": "display_data"
    }
   ],
   "source": [
    "from sklearn import metrics\n",
    "import seaborn as sns\n",
    "\n",
    "#predicting on training data instead\n",
    "y_predict = svc.predict(tf_train)\n",
    "accuracy_train = metrics.accuracy_score(train_targets, y_predict)\n",
    "print(f\"The training accuracy is: {accuracy_train : .2f}\")\n",
    "\n",
    "cm = metrics.confusion_matrix(train_targets, y_predict)\n",
    "sns.heatmap(cm/np.sum(cm), annot=True,\n",
    "            fmt='.2%', cmap='Blues')\n",
    "plt.xlabel(\"Predicted Value\")\n",
    "plt.ylabel(\"Actual Value\")"
   ],
   "metadata": {
    "collapsed": false
   }
  },
  {
   "cell_type": "markdown",
   "source": [
    "### h) Construct the tfidf kernel for the train (n_train x n_train) and test (n_test x n_train) data"
   ],
   "metadata": {
    "collapsed": false
   }
  },
  {
   "cell_type": "code",
   "execution_count": 89,
   "outputs": [],
   "source": [
    "tfidf_train, tfidf_test = tfidf(train_documents, test_documents)"
   ],
   "metadata": {
    "collapsed": false
   }
  },
  {
   "cell_type": "code",
   "execution_count": 85,
   "outputs": [
    {
     "name": "stdout",
     "output_type": "stream",
     "text": [
      "(1785,)\n",
      "(1188,)\n"
     ]
    }
   ],
   "source": [
    "print(tfidf_train.shape)\n",
    "print(tfidf_test.shape)"
   ],
   "metadata": {
    "collapsed": false
   }
  },
  {
   "cell_type": "markdown",
   "source": [
    "### i) use the SVC classifier again to classify the documents. Compare the performance to the previous case"
   ],
   "metadata": {
    "collapsed": false
   }
  },
  {
   "cell_type": "code",
   "execution_count": null,
   "outputs": [],
   "source": [
    "#YOUR CODE HERE"
   ],
   "metadata": {
    "collapsed": false
   }
  },
  {
   "cell_type": "markdown",
   "source": [
    "### j) Extension: Use (Kernel/Linear) PCA with varying dimensions of your tfidf kernel and repeat the classification or explore the eigenvalues of the kernel PCA and comment."
   ],
   "metadata": {
    "collapsed": false
   }
  },
  {
   "cell_type": "code",
   "execution_count": null,
   "outputs": [],
   "source": [
    "#YOUR CODE HERE"
   ],
   "metadata": {
    "collapsed": false
   }
  }
 ],
 "metadata": {
  "kernelspec": {
   "display_name": "Python 3",
   "language": "python",
   "name": "python3"
  },
  "language_info": {
   "codemirror_mode": {
    "name": "ipython",
    "version": 2
   },
   "file_extension": ".py",
   "mimetype": "text/x-python",
   "name": "python",
   "nbconvert_exporter": "python",
   "pygments_lexer": "ipython2",
   "version": "2.7.6"
  }
 },
 "nbformat": 4,
 "nbformat_minor": 0
}
