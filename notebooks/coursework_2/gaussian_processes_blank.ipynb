{
 "cells": [
  {
   "cell_type": "markdown",
   "source": [
    "# Coursework Part 1: SVMs"
   ],
   "metadata": {
    "collapsed": false
   }
  },
  {
   "cell_type": "markdown",
   "source": [
    "## Imports and Data\n",
    "\n",
    "I have included the minimal sufficient imports to complete the coursework. You are welcome to import other modules.\n",
    "\n",
    "Don't worry massively about code throwing warnings for this work."
   ],
   "metadata": {
    "collapsed": false
   }
  },
  {
   "cell_type": "code",
   "execution_count": 1,
   "metadata": {
    "collapsed": true
   },
   "outputs": [],
   "source": [
    "from sklearn.model_selection import train_test_split\n",
    "import numpy as np\n",
    "import matplotlib.pyplot as plt\n",
    "rng = np.random.RandomState(4)\n",
    "X = rng.uniform(0, 5, 20).reshape(-1, 1)\n",
    "y = np.sin((X[:, 0] - 2.5) ** 2) + 0.5*np.sin(3*X[:,0])+np.random.normal(0,0.01,size=X.shape[0])\n",
    "X_train,X_test, y_train, y_test = train_test_split(X,y,random_state=rng)\n",
    "del X,y"
   ]
  },
  {
   "cell_type": "markdown",
   "source": [
    "## 1) Gaussian Process Regression\n",
    "### a) Plot the train data points with blue markers and the test data points as red markers over an x range from 0 to 10"
   ],
   "metadata": {
    "collapsed": false
   }
  },
  {
   "cell_type": "code",
   "execution_count": 2,
   "outputs": [],
   "source": [
    "#YOUR CODE HERE"
   ],
   "metadata": {
    "collapsed": false
   }
  },
  {
   "cell_type": "markdown",
   "source": [
    "### b) Compare the prior distribution of functions of a Gaussian Process Regressor with an WhiteKernel, DotProduct cubed!, RationalQuadratic, and RBF Kernel and overlay the train and/or test data\n",
    "\n",
    "You will need to:\n",
    "- make an instance of gaussianprocessregressor\n",
    "- use its sample_y function for a range of x values from 0 to 5 for n_samples 3-5. Each column of the output can be considered a sample function.\n",
    "- make some observations\n",
    "- for rq and rbf kernel use parameters: length_scale=1.0, length_scale_bounds=(1e-1, 10.0)\n",
    "- for DotProduct use DotProduct()**3"
   ],
   "metadata": {
    "collapsed": false
   }
  },
  {
   "cell_type": "code",
   "execution_count": 3,
   "outputs": [],
   "source": [
    "#YOUR CODE HERE"
   ],
   "metadata": {
    "collapsed": false
   }
  },
  {
   "cell_type": "markdown",
   "source": [
    "### c) Repeat b) but after fitting to the y_train data and comment!"
   ],
   "metadata": {
    "collapsed": false
   }
  },
  {
   "cell_type": "code",
   "execution_count": 4,
   "outputs": [],
   "source": [
    "#YOUR CODE HERE"
   ],
   "metadata": {
    "collapsed": false
   }
  },
  {
   "cell_type": "markdown",
   "source": [
    "### d) For the rbf kernel, repeat c for different sized subsamples of the training data and comment!"
   ],
   "metadata": {
    "collapsed": false
   }
  },
  {
   "cell_type": "code",
   "execution_count": 5,
   "outputs": [],
   "source": [
    "#YOUR CODE HERE"
   ],
   "metadata": {
    "collapsed": false
   }
  },
  {
   "cell_type": "markdown",
   "source": [],
   "metadata": {
    "collapsed": false
   }
  },
  {
   "cell_type": "markdown",
   "source": [
    "## 2) Regularisation\n",
    "### a) For alpha between 10^-3 and 10^-1 demonstrate the effect of the regularisation parameter alpha and comment"
   ],
   "metadata": {
    "collapsed": false
   }
  },
  {
   "cell_type": "code",
   "execution_count": 6,
   "outputs": [],
   "source": [
    "#YOUR CODE HERE"
   ],
   "metadata": {
    "collapsed": false
   }
  }
 ],
 "metadata": {
  "kernelspec": {
   "display_name": "Python 3",
   "language": "python",
   "name": "python3"
  },
  "language_info": {
   "codemirror_mode": {
    "name": "ipython",
    "version": 2
   },
   "file_extension": ".py",
   "mimetype": "text/x-python",
   "name": "python",
   "nbconvert_exporter": "python",
   "pygments_lexer": "ipython2",
   "version": "2.7.6"
  }
 },
 "nbformat": 4,
 "nbformat_minor": 0
}
