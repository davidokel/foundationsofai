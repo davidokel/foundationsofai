{
 "cells": [
  {
   "cell_type": "markdown",
   "source": [
    "# Example Notebook\n",
    "\n",
    "## Introduction\n",
    "\n",
    "This notebook is intended as an example piece of coursework.\n",
    "\n",
    "Students will fill in the code sections.\n",
    "\n",
    "### Installation/Requirements\n",
    "\n",
    "This example is written using Python 3.9 with requirements listed in the requirements.txt file. Requirements can be installed using\n",
    "\n",
    "```pip install -r requirements.txt```\n",
    "\n",
    "Or can be installed manually.\n",
    "\n",
    "### Marking\n",
    "\n",
    "Work will be marked as a holistic whole and students may be asked to explain parts of their code,\n",
    "but it should be possible to understand the code by reading it alone e.g. by including comments where relevant.\n",
    "\n",
    "Understanding can be demonstrated by producing relevant figures/metrics or by writing comments in code or markdown cells.\n",
    "\n",
    "### Hints\n",
    "\n",
    " - Use of the scikit-learn package is encouraged but not required. Their documentation is extremely clear.\n",
    "\n",
    " - external packages will make the implementation of algorithms in code 'simple' but you should still demonstrate that the model outputs\n",
    "make sense in the context of the course content e.g. by ensuring that parameters are defined.\n",
    "\n",
    " - Often later questions will build on earlier parts. It may be helpful to write the supporting code in functions and/or classes so that they can be reused.\n",
    "\n",
    " - The notebook is expected to produce its outputs by 'run all cells'\n",
    "\n",
    "\n"
   ],
   "metadata": {
    "collapsed": false
   }
  },
  {
   "cell_type": "markdown",
   "source": [
    "## Expressivity vs generalisation\n",
    "\n",
    "This coursework is designed to practically explore the content given in the lectures in week 2."
   ],
   "metadata": {
    "collapsed": false
   }
  },
  {
   "cell_type": "markdown",
   "source": [
    "### Data"
   ],
   "metadata": {
    "collapsed": false
   }
  },
  {
   "cell_type": "code",
   "execution_count": 19,
   "outputs": [],
   "source": [
    "#DO NOT CHANGE THIS CODE\n",
    "import numpy as np\n",
    "import matplotlib.pyplot as plt\n",
    "X_train=np.loadtxt('./data/X_train_linear.txt')\n",
    "X_test=np.loadtxt('./data/X_test_linear.txt')\n",
    "y_train=np.loadtxt('./data/y_train_linear.txt')\n",
    "y_test=np.loadtxt('./data/y_test_linear.txt')"
   ],
   "metadata": {
    "collapsed": false
   }
  },
  {
   "cell_type": "markdown",
   "source": [
    "### 1) Linear Regression\n",
    "#### a) estimate w and b using linear regression based on the training data (X_train, y_train)"
   ],
   "metadata": {
    "collapsed": false
   }
  },
  {
   "cell_type": "code",
   "execution_count": 20,
   "outputs": [],
   "source": [
    "#YOUR CODE HERE"
   ],
   "metadata": {
    "collapsed": false
   }
  },
  {
   "cell_type": "markdown",
   "source": [
    "#### b) calculate the mean squared error for the training data and test data"
   ],
   "metadata": {
    "collapsed": false
   }
  },
  {
   "cell_type": "code",
   "execution_count": 21,
   "outputs": [],
   "source": [
    "#YOUR CODE HERE"
   ],
   "metadata": {
    "collapsed": false
   }
  },
  {
   "cell_type": "markdown",
   "source": [
    "### 2) Exploring the effects of dimensionality\n",
    "#### a) Using different sized subsets of the training data, repeat (1) and illustrate the trends of training error and test error as the sample size is increased\n"
   ],
   "metadata": {
    "collapsed": false
   }
  },
  {
   "cell_type": "code",
   "execution_count": 22,
   "outputs": [],
   "source": [
    "#YOUR CODE HERE"
   ],
   "metadata": {
    "collapsed": false
   }
  },
  {
   "cell_type": "markdown",
   "source": [
    "### 3) Regularisation"
   ],
   "metadata": {
    "collapsed": false
   }
  },
  {
   "cell_type": "markdown",
   "source": [
    "#### a) Using a suitable plot, demonstrate the effect of ridge regeularisation on the train and test error"
   ],
   "metadata": {
    "collapsed": false
   }
  },
  {
   "cell_type": "code",
   "execution_count": 23,
   "outputs": [],
   "source": [
    "#YOUR CODE HERE"
   ],
   "metadata": {
    "collapsed": false
   }
  },
  {
   "cell_type": "markdown",
   "source": [
    "#### b) Using a suitable metric or plot, demonstrate the effect of ridge regularisation on the estimated weights"
   ],
   "metadata": {
    "collapsed": false
   }
  },
  {
   "cell_type": "code",
   "execution_count": 24,
   "outputs": [],
   "source": [
    "#YOUR CODE HERE"
   ],
   "metadata": {
    "collapsed": false
   }
  },
  {
   "cell_type": "markdown",
   "source": [
    "## 4) Kernel Regression"
   ],
   "metadata": {
    "collapsed": false
   }
  },
  {
   "cell_type": "markdown",
   "source": [
    "### a) Demonstrate the equivalence of Ridge and Kernel Ridge Regression when using a linear kernel"
   ],
   "metadata": {
    "collapsed": false
   }
  },
  {
   "cell_type": "code",
   "execution_count": 25,
   "outputs": [],
   "source": [
    "#YOUR CODE HERE"
   ],
   "metadata": {
    "collapsed": false
   }
  },
  {
   "cell_type": "markdown",
   "source": [
    "### b) Construct the feature space represented by a polynomial kernel with degree 2 and demonstrate that for small values of ridge regularisation, the predictions of ridge regression with the explicit feature space and kernel ridge regression with the kernel representation are the same (or similar)"
   ],
   "metadata": {
    "collapsed": false
   }
  },
  {
   "cell_type": "code",
   "execution_count": 26,
   "outputs": [],
   "source": [
    "#YOUR CODE HERE"
   ],
   "metadata": {
    "collapsed": false
   }
  },
  {
   "cell_type": "markdown",
   "source": [
    "### c) Using the following data plot the train and test error for kernel ridge regression with polynomial kernel of different degrees"
   ],
   "metadata": {
    "collapsed": false
   }
  },
  {
   "cell_type": "code",
   "execution_count": 27,
   "outputs": [],
   "source": [
    "#DO NOT CHANGE THIS CODE\n",
    "X_train=np.loadtxt('./data/X_train_poly.txt')\n",
    "X_test=np.loadtxt('./data/X_test_poly.txt')\n",
    "y_train=np.loadtxt('./data/y_train_poly.txt')\n",
    "y_test=np.loadtxt('./data/y_test_poly.txt')"
   ],
   "metadata": {
    "collapsed": false
   }
  },
  {
   "cell_type": "code",
   "execution_count": 28,
   "outputs": [],
   "source": [
    "#YOUR CODE HERE"
   ],
   "metadata": {
    "collapsed": false
   }
  },
  {
   "cell_type": "markdown",
   "source": [
    "### d) Repeat 3a) for a polynomial kernel with degree of your choice"
   ],
   "metadata": {
    "collapsed": false
   }
  },
  {
   "cell_type": "code",
   "execution_count": 29,
   "outputs": [],
   "source": [
    "#YOUR CODE HERE"
   ],
   "metadata": {
    "collapsed": false
   }
  },
  {
   "cell_type": "markdown",
   "source": [
    "### e) Using the following data compare the performance of kernel ridge regression with rbf kernel and polynomial kernel"
   ],
   "metadata": {
    "collapsed": false
   }
  },
  {
   "cell_type": "code",
   "execution_count": 30,
   "outputs": [],
   "source": [
    "#DO NOT CHANGE THIS CODE\n",
    "X_train=np.loadtxt('./data/X_train_nonlinear.txt')\n",
    "X_test=np.loadtxt('./data/X_test_nonlinear.txt')\n",
    "y_train=np.loadtxt('./data/y_train_nonlinear.txt')\n",
    "y_test=np.loadtxt('./data/y_test_nonlinear.txt')"
   ],
   "metadata": {
    "collapsed": false
   }
  },
  {
   "cell_type": "code",
   "execution_count": 31,
   "outputs": [],
   "source": [
    "#YOUR CODE HERE"
   ],
   "metadata": {
    "collapsed": false
   }
  }
 ],
 "metadata": {
  "kernelspec": {
   "display_name": "Python 3",
   "language": "python",
   "name": "python3"
  },
  "language_info": {
   "codemirror_mode": {
    "name": "ipython",
    "version": 2
   },
   "file_extension": ".py",
   "mimetype": "text/x-python",
   "name": "python",
   "nbconvert_exporter": "python",
   "pygments_lexer": "ipython2",
   "version": "2.7.6"
  }
 },
 "nbformat": 4,
 "nbformat_minor": 0
}
