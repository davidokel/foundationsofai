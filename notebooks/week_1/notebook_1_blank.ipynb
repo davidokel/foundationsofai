{
 "cells": [
  {
   "cell_type": "markdown",
   "source": [
    "# Example Notebook\n",
    "\n",
    "## Introduction\n",
    "\n",
    "This notebook is intended as an example piece of coursework.\n",
    "\n",
    "Students will fill in the code sections.\n",
    "\n",
    "### Installation/Requirements\n",
    "\n",
    "This example is written using Python 3.9 with requirements listed in the requirements.txt file. Requirements can be installed using\n",
    "\n",
    "```pip install -r requirements.txt```\n",
    "\n",
    "Or can be installed manually.\n",
    "\n",
    "### Marking\n",
    "\n",
    "Work will be marked as a holistic whole and students may be asked to explain parts of their code,\n",
    "but it should be possible to understand the code by reading it alone e.g. by including comments where relevant.\n",
    "\n",
    "Understanding can be demonstrated by producing relevant figures/metrics or by writing comments in code or markdown cells.\n",
    "\n",
    "### Hints\n",
    "\n",
    " - Use of the scikit-learn package is encouraged but not required. Their documentation is extremely clear.\n",
    "\n",
    " - external packages will make the implementation of algorithms in code 'simple' but you should still demonstrate that the model outputs\n",
    "make sense in the context of the course content e.g. by ensuring that parameters are defined.\n",
    "\n",
    " - Often later questions will build on earlier parts. It may be helpful to write the supporting code in functions and/or classes so that they can be reused.\n",
    "\n",
    " - The notebook is expected to produce its outputs by 'run all cells'\n",
    "\n",
    "\n"
   ],
   "metadata": {
    "collapsed": false
   }
  },
  {
   "cell_type": "markdown",
   "source": [
    "## Expressivity vs generalisation\n",
    "\n",
    "This coursework is designed to practically explore the content given in the lectures in week 2."
   ],
   "metadata": {
    "collapsed": false
   }
  },
  {
   "cell_type": "markdown",
   "source": [
    "### Data"
   ],
   "metadata": {
    "collapsed": false
   }
  },
  {
   "cell_type": "code",
   "execution_count": 139,
   "outputs": [],
   "source": [
    "import math\n",
    "\n",
    "#DO NOT CHANGE THIS CODE\n",
    "import numpy as np\n",
    "import matplotlib.pyplot as plt\n",
    "X_train=np.loadtxt('./data/X_train_linear.txt')\n",
    "X_test=np.loadtxt('./data/X_test_linear.txt')\n",
    "y_train=np.loadtxt('./data/y_train_linear.txt')\n",
    "y_test=np.loadtxt('./data/y_test_linear.txt')"
   ],
   "metadata": {
    "collapsed": false
   }
  },
  {
   "cell_type": "markdown",
   "source": [
    "### 1) Linear Regression\n",
    "#### a) estimate w and b using linear regression based on the training data (X_train, y_train)"
   ],
   "metadata": {
    "collapsed": false
   }
  },
  {
   "cell_type": "code",
   "execution_count": 140,
   "outputs": [],
   "source": [
    "from notebooks.week_1.LinearRegression import LinearRegressionModel\n",
    "\n",
    "reg = LinearRegressionModel(X_train, y_train)"
   ],
   "metadata": {
    "collapsed": false
   }
  },
  {
   "cell_type": "markdown",
   "source": [
    "#### b) calculate the mean squared error for the training data and test data"
   ],
   "metadata": {
    "collapsed": false
   }
  },
  {
   "cell_type": "code",
   "execution_count": 141,
   "outputs": [
    {
     "name": "stdout",
     "output_type": "stream",
     "text": [
      "Mean squared error is 0.0002756601\n"
     ]
    }
   ],
   "source": [
    "y_predicted, MSE = reg.predict(X_test, y_test)\n",
    "print(\"Mean squared error is %.10f\" % MSE)"
   ],
   "metadata": {
    "collapsed": false
   }
  },
  {
   "cell_type": "markdown",
   "source": [
    "### 2) Exploring the effects of dimensionality\n",
    "#### a) Using different sized subsets of the training data, repeat (1) and illustrate the trends of training error and test error as the sample size is increased\n"
   ],
   "metadata": {
    "collapsed": false
   }
  },
  {
   "cell_type": "code",
   "execution_count": 142,
   "outputs": [
    {
     "name": "stdout",
     "output_type": "stream",
     "text": [
      "0.003439829154792952\n",
      "0.0007519997296274949\n",
      "0.0005277997838086098\n",
      "0.0006016646034304311\n",
      "0.0004384501582700941\n",
      "0.0003882594109574862\n",
      "0.00033641292782681903\n",
      "0.0002884270800014524\n",
      "0.00026862123975057066\n",
      "0.00027566005278718066\n"
     ]
    },
    {
     "data": {
      "text/plain": "[<matplotlib.lines.Line2D at 0x239357cee20>]"
     },
     "execution_count": 142,
     "metadata": {},
     "output_type": "execute_result"
    },
    {
     "data": {
      "text/plain": "<Figure size 432x288 with 1 Axes>",
      "image/png": "[encoded data removed]"
     },
     "metadata": {
      "needs_background": "light"
     },
     "output_type": "display_data"
    }
   ],
   "source": [
    "mse_results = []\n",
    "\n",
    "size_of_training_subset = range(10, len(X_train) + 1, math.floor(len(X_train)/10))\n",
    "\n",
    "for i in size_of_training_subset:\n",
    "    training_X = X_train[0:i,:]\n",
    "    training_y = y_train[0:i]\n",
    "    model = LinearRegressionModel(training_X, training_y)\n",
    "    y_predicted, mse = model.predict(X_test, y_test)\n",
    "    print(mse)\n",
    "    mse_results.append(mse)\n",
    "\n",
    "plt.plot(size_of_training_subset, mse_results)\n",
    "plt.xlabel(\"Size of training data (n)\")\n",
    "plt.ylabel(\"Mean-Squared Error of test\")\n"
   ],
   "metadata": {
    "collapsed": false
   }
  },
  {
   "cell_type": "markdown",
   "source": [
    "### 3) Regularisation"
   ],
   "metadata": {
    "collapsed": false
   }
  },
  {
   "cell_type": "markdown",
   "source": [
    "#### a) Using a suitable plot, demonstrate the effect of ridge regeularisation on the train and test error"
   ],
   "metadata": {
    "collapsed": false
   }
  },
  {
   "cell_type": "code",
   "execution_count": 143,
   "outputs": [],
   "source": [
    "#YOUR CODE HERE"
   ],
   "metadata": {
    "collapsed": false
   }
  },
  {
   "cell_type": "markdown",
   "source": [
    "#### b) Using a suitable metric or plot, demonstrate the effect of ridge regularisation on the estimated weights"
   ],
   "metadata": {
    "collapsed": false
   }
  },
  {
   "cell_type": "code",
   "execution_count": 144,
   "outputs": [],
   "source": [
    "#YOUR CODE HERE"
   ],
   "metadata": {
    "collapsed": false
   }
  },
  {
   "cell_type": "markdown",
   "source": [
    "## 4) Kernel Regression"
   ],
   "metadata": {
    "collapsed": false
   }
  },
  {
   "cell_type": "markdown",
   "source": [
    "### a) Demonstrate the equivalence of Ridge and Kernel Ridge Regression when using a linear kernel"
   ],
   "metadata": {
    "collapsed": false
   }
  },
  {
   "cell_type": "code",
   "execution_count": 145,
   "outputs": [],
   "source": [
    "#YOUR CODE HERE"
   ],
   "metadata": {
    "collapsed": false
   }
  },
  {
   "cell_type": "markdown",
   "source": [
    "### b) Construct the feature space represented by a polynomial kernel with degree 2 and demonstrate that for small values of ridge regularisation, the predictions of ridge regression with the explicit feature space and kernel ridge regression with the kernel representation are the same (or similar)"
   ],
   "metadata": {
    "collapsed": false
   }
  },
  {
   "cell_type": "code",
   "execution_count": 146,
   "outputs": [],
   "source": [
    "#YOUR CODE HERE"
   ],
   "metadata": {
    "collapsed": false
   }
  },
  {
   "cell_type": "markdown",
   "source": [
    "### c) Using the following data plot the train and test error for kernel ridge regression with polynomial kernel of different degrees"
   ],
   "metadata": {
    "collapsed": false
   }
  },
  {
   "cell_type": "code",
   "execution_count": 147,
   "outputs": [],
   "source": [
    "#DO NOT CHANGE THIS CODE\n",
    "X_train=np.loadtxt('./data/X_train_poly.txt')\n",
    "X_test=np.loadtxt('./data/X_test_poly.txt')\n",
    "y_train=np.loadtxt('./data/y_train_poly.txt')\n",
    "y_test=np.loadtxt('./data/y_test_poly.txt')"
   ],
   "metadata": {
    "collapsed": false
   }
  },
  {
   "cell_type": "code",
   "execution_count": 148,
   "outputs": [],
   "source": [
    "#YOUR CODE HERE"
   ],
   "metadata": {
    "collapsed": false
   }
  },
  {
   "cell_type": "markdown",
   "source": [
    "### d) Repeat 3a) for a polynomial kernel with degree of your choice"
   ],
   "metadata": {
    "collapsed": false
   }
  },
  {
   "cell_type": "code",
   "execution_count": 149,
   "outputs": [],
   "source": [
    "#YOUR CODE HERE"
   ],
   "metadata": {
    "collapsed": false
   }
  },
  {
   "cell_type": "markdown",
   "source": [
    "### e) Using the following data compare the performance of kernel ridge regression with rbf kernel and polynomial kernel"
   ],
   "metadata": {
    "collapsed": false
   }
  },
  {
   "cell_type": "code",
   "execution_count": 150,
   "outputs": [],
   "source": [
    "#DO NOT CHANGE THIS CODE\n",
    "X_train=np.loadtxt('./data/X_train_nonlinear.txt')\n",
    "X_test=np.loadtxt('./data/X_test_nonlinear.txt')\n",
    "y_train=np.loadtxt('./data/y_train_nonlinear.txt')\n",
    "y_test=np.loadtxt('./data/y_test_nonlinear.txt')"
   ],
   "metadata": {
    "collapsed": false
   }
  },
  {
   "cell_type": "code",
   "execution_count": 151,
   "outputs": [],
   "source": [
    "#YOUR CODE HERE"
   ],
   "metadata": {
    "collapsed": false
   }
  }
 ],
 "metadata": {
  "kernelspec": {
   "display_name": "Python 3",
   "language": "python",
   "name": "python3"
  },
  "language_info": {
   "codemirror_mode": {
    "name": "ipython",
    "version": 2
   },
   "file_extension": ".py",
   "mimetype": "text/x-python",
   "name": "python",
   "nbconvert_exporter": "python",
   "pygments_lexer": "ipython2",
   "version": "2.7.6"
  }
 },
 "nbformat": 4,
 "nbformat_minor": 0
}
